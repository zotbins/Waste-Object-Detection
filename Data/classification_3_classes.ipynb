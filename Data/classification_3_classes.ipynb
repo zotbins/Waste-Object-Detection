{
  "nbformat": 4,
  "nbformat_minor": 0,
  "metadata": {
    "colab": {
      "name": "Untitled12.ipynb",
      "provenance": []
    },
    "kernelspec": {
      "name": "python3",
      "display_name": "Python 3"
    },
    "accelerator": "GPU"
  },
  "cells": [
    {
      "cell_type": "code",
      "metadata": {
        "id": "b--mQ29Jiosx"
      },
      "source": [
        "!unzip \"bottle_images.zip\"\n",
        "!unzip \"chips_images.zip\"\n",
        "!unzip \"straws_images.zip\""
      ],
      "execution_count": null,
      "outputs": []
    },
    {
      "cell_type": "code",
      "metadata": {
        "id": "5Tgvy1-VjYKk"
      },
      "source": [
        "import torch\n",
        "import torchvision\n",
        "import torch.nn as nn\n",
        "import torch.nn.functional as F\n",
        "import torchvision.transforms as transforms\n",
        "import torch.optim as optim\n",
        "\n",
        "import numpy as np\n",
        "import matplotlib.pyplot as plt\n",
        "import pandas as pd\n",
        "from PIL import Image\n",
        "\n",
        "import os"
      ],
      "execution_count": 2,
      "outputs": []
    },
    {
      "cell_type": "code",
      "metadata": {
        "id": "agC-vJfzjZ5a"
      },
      "source": [
        "def imshow(img):\n",
        "    print(img.shape)\n",
        "    img = img / 2 + 0.5     # unnormalize\n",
        "    npimg = img.numpy()\n",
        "    plt.imshow(np.transpose(npimg, (1, 2, 0)))\n",
        "    plt.show()\n",
        "\n",
        "def myimshow(img):\n",
        "    plt.imshow(img, cmap=\"gray\")\n",
        "    plt.show()\n",
        "\n",
        "def standardize(A):\n",
        "  return (A - np.mean(A)) / (np.max(A) - np.mean(A))"
      ],
      "execution_count": 3,
      "outputs": []
    },
    {
      "cell_type": "code",
      "metadata": {
        "id": "P-k4DJLTjbaC"
      },
      "source": [
        "def read_files(filename, class_index):\n",
        "  X_list = []\n",
        "  Y_list = []\n",
        "  for file in os.listdir(filename):\n",
        "    try:\n",
        "      numpy_file = plt.imread(filename + \"/\" + file)\n",
        "    except:\n",
        "      continue\n",
        "    X_list.append(numpy_file)\n",
        "    Y_list.append(class_index)\n",
        "  return X_list, Y_list"
      ],
      "execution_count": 4,
      "outputs": []
    },
    {
      "cell_type": "code",
      "metadata": {
        "colab": {
          "base_uri": "https://localhost:8080/"
        },
        "id": "TY1h1jw4kIrM",
        "outputId": "57ca3d08-d211-4d2f-e0a1-11b9e4642c83"
      },
      "source": [
        "filename_list = [\"bottle_images\", \"chips_images\", \"straws_images\"]\n",
        "X_list = []\n",
        "Y_list = []\n",
        "for i, filename in enumerate(filename_list):\n",
        "  X, Y = read_files(filename, i)\n",
        "  X_list += X\n",
        "  Y_list += Y\n",
        "classes = {i:filename_list[i] for i in range(len(filename_list))}\n",
        "print(classes)"
      ],
      "execution_count": 5,
      "outputs": [
        {
          "output_type": "stream",
          "text": [
            "{0: 'bottle_images', 1: 'chips_images', 2: 'straws_images'}\n"
          ],
          "name": "stdout"
        }
      ]
    },
    {
      "cell_type": "code",
      "metadata": {
        "colab": {
          "base_uri": "https://localhost:8080/"
        },
        "id": "Kfel_wO_wQmZ",
        "outputId": "030e5263-b262-462e-caff-7b687e50f5de"
      },
      "source": [
        "data_set = []\n",
        "for i in range(len(X_list)):\n",
        "  img = Image.fromarray(X_list[i], \"RGB\")\n",
        "  reshaped_img = img.resize((200, 200))\n",
        "  data_set.append((torch.from_numpy(standardize(np.array(reshaped_img).transpose(2,0,1))), Y_list[i]))\n",
        "print(len(data_set))"
      ],
      "execution_count": 6,
      "outputs": [
        {
          "output_type": "stream",
          "text": [
            "2110\n"
          ],
          "name": "stdout"
        }
      ]
    },
    {
      "cell_type": "code",
      "metadata": {
        "id": "LpCwzL2Wx6yZ",
        "outputId": "a9a604e8-feb1-45ac-af18-33a994d6e3c1",
        "colab": {
          "base_uri": "https://localhost:8080/"
        }
      },
      "source": [
        "np.random.shuffle(data_set)\n",
        "split_point_val = int(len(X_list) * 0.6)\n",
        "split_point_test = int(len(X_list) * 0.8)\n",
        "train_set = data_set[:split_point_val]\n",
        "val_set = data_set[split_point_val:split_point_test]\n",
        "test_set = data_set[split_point_test:]\n",
        "print(\"train_set: \", str(len(train_set)))\n",
        "print(\"val_set: \", str(len(val_set)))\n",
        "print(\"test_set: \", str(len(test_set)))\n",
        "print(\"total:\" , str(len(train_set) + len(val_set) + len(test_set)))"
      ],
      "execution_count": 7,
      "outputs": [
        {
          "output_type": "stream",
          "text": [
            "train_set:  1266\n",
            "val_set:  422\n",
            "test_set:  422\n",
            "total: 2110\n"
          ],
          "name": "stdout"
        }
      ]
    },
    {
      "cell_type": "code",
      "metadata": {
        "id": "u2oXFGnSyAa0"
      },
      "source": [
        "trainloader = torch.utils.data.DataLoader(train_set, batch_size=4, shuffle=True, num_workers=2)\n",
        "valloader = torch.utils.data.DataLoader(val_set, batch_size=4, shuffle=True, num_workers=2)\n",
        "testloader = torch.utils.data.DataLoader(test_set, batch_size=4, shuffle=True, num_workers=2)"
      ],
      "execution_count": 8,
      "outputs": []
    },
    {
      "cell_type": "code",
      "metadata": {
        "id": "JYm5YGL_yFnS",
        "outputId": "8ed730e3-1b7e-4c96-f8db-4e1e3e3d4dcb",
        "colab": {
          "base_uri": "https://localhost:8080/",
          "height": 186
        }
      },
      "source": [
        "dataiter = iter(trainloader)\n",
        "images, labels = dataiter.next()\n",
        "\n",
        "imshow(torchvision.utils.make_grid(images))\n",
        "# fig, axs = plt.subplots(ncols = 4, figsize = (15,15))\n",
        "# for i in range(4):\n",
        "#   axs[i].imshow(images[i])\n",
        "plt.show()\n",
        "print([classes[int(labels[i])] for i in range(4)])"
      ],
      "execution_count": 9,
      "outputs": [
        {
          "output_type": "stream",
          "text": [
            "Clipping input data to the valid range for imshow with RGB data ([0..1] for floats or [0..255] for integers).\n"
          ],
          "name": "stderr"
        },
        {
          "output_type": "stream",
          "text": [
            "torch.Size([3, 204, 810])\n"
          ],
          "name": "stdout"
        },
        {
          "output_type": "display_data",
          "data": {
            "image/png": "[encoded data removed]",
            "text/plain": [
              "<Figure size 432x288 with 1 Axes>"
            ]
          },
          "metadata": {
            "tags": [],
            "needs_background": "light"
          }
        },
        {
          "output_type": "stream",
          "text": [
            "['bottle_images', 'straws_images', 'chips_images', 'bottle_images']\n"
          ],
          "name": "stdout"
        }
      ]
    },
    {
      "cell_type": "code",
      "metadata": {
        "id": "Rtgu8pqDyF_5"
      },
      "source": [
        "#load the model\n",
        "#trained model was failed to be downloaded from googlecolab as it is really big (~300M)\n",
        "simpleModel = SimpleModel()\n",
        "simpleModel.load_state_dict(torch.load(\"model.txt\"))\n",
        "device = torch.device(\"cuda:0\" if torch.cuda.is_available() else \"cpu\")\n",
        "print(device)\n",
        "simpleModel.to(device)\n",
        "simpleModel.eval()"
      ],
      "execution_count": null,
      "outputs": []
    },
    {
      "cell_type": "code",
      "metadata": {
        "id": "Ys-6cBsX3bhs",
        "outputId": "25287445-3567-483b-d668-5a0167eb9f39",
        "colab": {
          "base_uri": "https://localhost:8080/"
        }
      },
      "source": [
        " import torch.optim as optim\n",
        "\n",
        "dropout = 0.5\n",
        "\n",
        "class SimpleModel(nn.Module):\n",
        "    def __init__(self):\n",
        "        super(SimpleModel, self).__init__()\n",
        "        self.conv1 = nn.Conv2d(3, 30, kernel_size = 3)\n",
        "        self.bn1 = nn.BatchNorm2d(30)\n",
        "        self.pool = nn.MaxPool2d(2, 2)\n",
        "        self.dropout1 = nn.Dropout(dropout)\n",
        "        self.conv2 = nn.Conv2d(30, 60, kernel_size = 3)\n",
        "        self.bn2 = nn.BatchNorm2d(60)\n",
        "        self.pool = nn.MaxPool2d(2, 2)\n",
        "        self.dropout2 = nn.Dropout(dropout)\n",
        "        self.fc1 = nn.Linear(60 * 48 * 48, 1200)\n",
        "        self.fc2 = nn.Linear(1200, 840)\n",
        "        self.fc3 = nn.Linear(840, 14)\n",
        "\n",
        "    def forward(self, x):\n",
        "        x = self.pool(F.relu(self.conv1(x)))\n",
        "        x = self.bn1(x)\n",
        "        x = self.dropout1(x)\n",
        "        x = self.pool(F.relu(self.conv2(x)))\n",
        "        x = self.bn2(x)\n",
        "        x = self.dropout2(x)\n",
        "        x = x.view(-1, 60 * 48 * 48)\n",
        "        x = F.relu(self.fc1(x))\n",
        "        x = F.relu(self.fc2(x))\n",
        "        x = self.fc3(x)\n",
        "        return x\n",
        "\n",
        "simpleModel = SimpleModel()\n",
        "device = torch.device(\"cuda:0\" if torch.cuda.is_available() else \"cpu\")\n",
        "print(device)\n",
        "simpleModel.to(device)"
      ],
      "execution_count": 26,
      "outputs": [
        {
          "output_type": "stream",
          "text": [
            "cuda:0\n"
          ],
          "name": "stdout"
        },
        {
          "output_type": "execute_result",
          "data": {
            "text/plain": [
              "SimpleModel(\n",
              "  (conv1): Conv2d(3, 30, kernel_size=(3, 3), stride=(1, 1))\n",
              "  (bn1): BatchNorm2d(30, eps=1e-05, momentum=0.1, affine=True, track_running_stats=True)\n",
              "  (pool): MaxPool2d(kernel_size=2, stride=2, padding=0, dilation=1, ceil_mode=False)\n",
              "  (dropout1): Dropout(p=0.5, inplace=False)\n",
              "  (conv2): Conv2d(30, 60, kernel_size=(3, 3), stride=(1, 1))\n",
              "  (bn2): BatchNorm2d(60, eps=1e-05, momentum=0.1, affine=True, track_running_stats=True)\n",
              "  (dropout2): Dropout(p=0.5, inplace=False)\n",
              "  (fc1): Linear(in_features=138240, out_features=1200, bias=True)\n",
              "  (fc2): Linear(in_features=1200, out_features=840, bias=True)\n",
              "  (fc3): Linear(in_features=840, out_features=14, bias=True)\n",
              ")"
            ]
          },
          "metadata": {
            "tags": []
          },
          "execution_count": 26
        }
      ]
    },
    {
      "cell_type": "code",
      "metadata": {
        "id": "bbIIc_Hd3eQg"
      },
      "source": [
        "lr = 0.01\n",
        "weight_decay = 0.13\n",
        "step_size = 15\n",
        "gamma = 0.6\n",
        "criterion = nn.CrossEntropyLoss()\n",
        "optimizer = optim.SGD(simpleModel.parameters(), lr = lr, weight_decay=weight_decay)\n",
        "scheduler = torch.optim.lr_scheduler.StepLR(optimizer, step_size=step_size, gamma=gamma)\n"
      ],
      "execution_count": 27,
      "outputs": []
    },
    {
      "cell_type": "code",
      "metadata": {
        "id": "p0WPJciV3gUp",
        "outputId": "1758a8e7-5f69-4685-8769-5f79822d7d69",
        "colab": {
          "base_uri": "https://localhost:8080/"
        }
      },
      "source": [
        "tr_accuacy2 = []\n",
        "tr_loss2 = []\n",
        "va_accuacy2 = []\n",
        "va_loss2 = []\n",
        "\n",
        "batch_size_i = 20\n",
        "val_batch_size = 1\n",
        "for epoch in range(100):  # loop over the dataset multiple times\n",
        "    trainloader = torch.utils.data.DataLoader(train_set, batch_size=batch_size_i, shuffle=True, num_workers=2)\n",
        "    valloader = torch.utils.data.DataLoader(val_set, batch_size=val_batch_size, shuffle=False, num_workers=2)\n",
        "    train_total = 0\n",
        "    train_correct = 0\n",
        "    va_total = 0\n",
        "    va_correct = 0\n",
        "    training_loss = 0.0\n",
        "    vaild_loss = 0.0\n",
        "    training_data_size = 0\n",
        "    va_data_size = 0\n",
        "    for i, data in enumerate(trainloader, 0):\n",
        "        inputs, labels = data\n",
        "        inputs, labels = inputs.to(device, dtype=torch.float), \\\n",
        "          labels.to(device)\n",
        "        optimizer.zero_grad()\n",
        "        outputs = simpleModel(inputs)\n",
        "        loss = criterion(outputs, labels)\n",
        "        loss.backward()\n",
        "        _, predicted = torch.max(outputs.data, 1)\n",
        "        train_total += labels.size(0)\n",
        "        train_correct += (predicted == labels).sum().item()\n",
        "        optimizer.step()\n",
        "        training_loss += loss.item()\n",
        "        training_data_size = i\n",
        "    tr_accuacy2.append(train_correct / train_total)\n",
        "    tr_loss2.append(training_loss / (training_data_size + 1))\n",
        "\n",
        "    for i, data in enumerate(valloader, 0):\n",
        "        inputs, labels = data\n",
        "        inputs, labels = inputs.to(device, dtype=torch.float), \\\n",
        "          labels.to(device)\n",
        "        # optimizer.zero_grad()\n",
        "        outputs = simpleModel(inputs)\n",
        "        loss = criterion(outputs, labels)\n",
        "        # loss.backward()\n",
        "        _, predicted = torch.max(outputs.data, 1)\n",
        "        va_total += labels.size(0)\n",
        "        va_correct += (predicted == labels).sum().item()\n",
        "        vaild_loss += loss.item()\n",
        "        va_data_size = i\n",
        "    va_accuacy2.append(va_correct / va_total)\n",
        "    va_loss2.append(vaild_loss / (va_data_size + 1))\n",
        "    if scheduler.get_lr()[0] > 0.0003:\n",
        "        scheduler.step()\n",
        "    if epoch % 2 == 0:\n",
        "\n",
        "        print('epoch %d learning rate:%.5f| training loss:%.3f, training accuracy:%.2f%%, validation loss:%.3f, validation accuracy:%.2f%%' \n",
        "              %(epoch + 1, scheduler.get_last_lr()[0], training_loss / (training_data_size + 1), \\\n",
        "                100 * train_correct / train_total, \\\n",
        "                vaild_loss / (va_data_size + 1), 100 * va_correct / va_total))"
      ],
      "execution_count": 28,
      "outputs": [
        {
          "output_type": "stream",
          "text": [
            "epoch 1 learning rate:0.01000| training loss:0.710, training accuracy:78.20%, validation loss:0.682, validation accuracy:77.73%\n"
          ],
          "name": "stdout"
        },
        {
          "output_type": "stream",
          "text": [
            "/usr/local/lib/python3.6/dist-packages/torch/optim/lr_scheduler.py:370: UserWarning: To get the last learning rate computed by the scheduler, please use `get_last_lr()`.\n",
            "  \"please use `get_last_lr()`.\", UserWarning)\n"
          ],
          "name": "stderr"
        },
        {
          "output_type": "stream",
          "text": [
            "epoch 3 learning rate:0.01000| training loss:0.221, training accuracy:93.52%, validation loss:0.723, validation accuracy:77.49%\n",
            "epoch 5 learning rate:0.01000| training loss:0.139, training accuracy:96.13%, validation loss:0.597, validation accuracy:84.60%\n",
            "epoch 7 learning rate:0.01000| training loss:0.112, training accuracy:97.16%, validation loss:0.642, validation accuracy:81.28%\n",
            "epoch 9 learning rate:0.01000| training loss:0.096, training accuracy:98.26%, validation loss:0.619, validation accuracy:82.23%\n",
            "epoch 11 learning rate:0.01000| training loss:0.089, training accuracy:98.82%, validation loss:0.618, validation accuracy:81.99%\n",
            "epoch 13 learning rate:0.01000| training loss:0.091, training accuracy:98.89%, validation loss:0.592, validation accuracy:84.12%\n",
            "epoch 15 learning rate:0.00600| training loss:0.092, training accuracy:98.42%, validation loss:0.586, validation accuracy:83.41%\n",
            "epoch 17 learning rate:0.00600| training loss:0.081, training accuracy:99.29%, validation loss:0.553, validation accuracy:84.36%\n",
            "epoch 19 learning rate:0.00600| training loss:0.091, training accuracy:98.82%, validation loss:0.513, validation accuracy:86.97%\n",
            "epoch 21 learning rate:0.00600| training loss:0.088, training accuracy:98.74%, validation loss:0.395, validation accuracy:90.52%\n",
            "epoch 23 learning rate:0.00600| training loss:0.085, training accuracy:99.45%, validation loss:0.362, validation accuracy:91.23%\n",
            "epoch 25 learning rate:0.00600| training loss:0.091, training accuracy:98.82%, validation loss:0.327, validation accuracy:95.02%\n",
            "epoch 27 learning rate:0.00600| training loss:0.091, training accuracy:99.21%, validation loss:0.300, validation accuracy:93.36%\n",
            "epoch 29 learning rate:0.00600| training loss:0.091, training accuracy:98.97%, validation loss:0.298, validation accuracy:93.60%\n",
            "epoch 31 learning rate:0.00360| training loss:0.083, training accuracy:99.29%, validation loss:0.272, validation accuracy:94.31%\n",
            "epoch 33 learning rate:0.00360| training loss:0.089, training accuracy:99.21%, validation loss:0.306, validation accuracy:92.89%\n",
            "epoch 35 learning rate:0.00360| training loss:0.087, training accuracy:99.13%, validation loss:0.246, validation accuracy:95.26%\n",
            "epoch 37 learning rate:0.00360| training loss:0.090, training accuracy:98.89%, validation loss:0.357, validation accuracy:88.63%\n",
            "epoch 39 learning rate:0.00360| training loss:0.089, training accuracy:99.05%, validation loss:0.714, validation accuracy:67.06%\n",
            "epoch 41 learning rate:0.00360| training loss:0.087, training accuracy:98.58%, validation loss:0.267, validation accuracy:93.36%\n",
            "epoch 43 learning rate:0.00360| training loss:0.092, training accuracy:98.97%, validation loss:0.340, validation accuracy:89.57%\n",
            "epoch 45 learning rate:0.00216| training loss:0.097, training accuracy:98.42%, validation loss:0.236, validation accuracy:95.26%\n",
            "epoch 47 learning rate:0.00216| training loss:0.083, training accuracy:99.21%, validation loss:0.281, validation accuracy:91.94%\n",
            "epoch 49 learning rate:0.00216| training loss:0.084, training accuracy:99.37%, validation loss:0.220, validation accuracy:95.97%\n",
            "epoch 51 learning rate:0.00216| training loss:0.082, training accuracy:99.05%, validation loss:0.221, validation accuracy:95.26%\n",
            "epoch 53 learning rate:0.00216| training loss:0.087, training accuracy:98.97%, validation loss:0.214, validation accuracy:96.21%\n",
            "epoch 55 learning rate:0.00216| training loss:0.086, training accuracy:99.05%, validation loss:0.237, validation accuracy:94.31%\n",
            "epoch 57 learning rate:0.00216| training loss:0.084, training accuracy:99.21%, validation loss:0.211, validation accuracy:96.45%\n",
            "epoch 59 learning rate:0.00216| training loss:0.087, training accuracy:98.89%, validation loss:0.244, validation accuracy:94.55%\n",
            "epoch 61 learning rate:0.00130| training loss:0.081, training accuracy:99.29%, validation loss:0.217, validation accuracy:95.26%\n",
            "epoch 63 learning rate:0.00130| training loss:0.090, training accuracy:98.89%, validation loss:0.232, validation accuracy:95.02%\n",
            "epoch 65 learning rate:0.00130| training loss:0.098, training accuracy:98.74%, validation loss:0.280, validation accuracy:91.23%\n",
            "epoch 67 learning rate:0.00130| training loss:0.085, training accuracy:99.05%, validation loss:0.229, validation accuracy:94.31%\n",
            "epoch 69 learning rate:0.00130| training loss:0.089, training accuracy:98.82%, validation loss:0.215, validation accuracy:95.73%\n",
            "epoch 71 learning rate:0.00130| training loss:0.083, training accuracy:99.21%, validation loss:0.211, validation accuracy:96.68%\n",
            "epoch 73 learning rate:0.00130| training loss:0.091, training accuracy:98.89%, validation loss:0.232, validation accuracy:95.26%\n",
            "epoch 75 learning rate:0.00078| training loss:0.089, training accuracy:98.89%, validation loss:0.231, validation accuracy:94.31%\n",
            "epoch 77 learning rate:0.00078| training loss:0.088, training accuracy:98.97%, validation loss:0.224, validation accuracy:95.26%\n",
            "epoch 79 learning rate:0.00078| training loss:0.086, training accuracy:98.89%, validation loss:0.219, validation accuracy:95.26%\n",
            "epoch 81 learning rate:0.00078| training loss:0.088, training accuracy:98.89%, validation loss:0.229, validation accuracy:95.97%\n",
            "epoch 83 learning rate:0.00078| training loss:0.086, training accuracy:99.13%, validation loss:0.223, validation accuracy:95.02%\n",
            "epoch 85 learning rate:0.00078| training loss:0.091, training accuracy:98.89%, validation loss:0.232, validation accuracy:94.55%\n",
            "epoch 87 learning rate:0.00078| training loss:0.083, training accuracy:99.05%, validation loss:0.218, validation accuracy:95.50%\n",
            "epoch 89 learning rate:0.00078| training loss:0.081, training accuracy:99.13%, validation loss:0.217, validation accuracy:95.50%\n",
            "epoch 91 learning rate:0.00047| training loss:0.082, training accuracy:99.13%, validation loss:0.224, validation accuracy:95.26%\n",
            "epoch 93 learning rate:0.00047| training loss:0.080, training accuracy:99.29%, validation loss:0.220, validation accuracy:95.26%\n",
            "epoch 95 learning rate:0.00047| training loss:0.082, training accuracy:99.05%, validation loss:0.217, validation accuracy:96.21%\n",
            "epoch 97 learning rate:0.00047| training loss:0.080, training accuracy:99.05%, validation loss:0.213, validation accuracy:95.50%\n",
            "epoch 99 learning rate:0.00047| training loss:0.080, training accuracy:99.13%, validation loss:0.224, validation accuracy:94.79%\n"
          ],
          "name": "stdout"
        }
      ]
    },
    {
      "cell_type": "code",
      "metadata": {
        "id": "nKDrjEdHDHJ5",
        "outputId": "bf4da626-bf80-41cc-eba7-3c8c2c90baa7",
        "colab": {
          "base_uri": "https://localhost:8080/"
        }
      },
      "source": [
        "test_total = 0\n",
        "test_correct = 0\n",
        "test_loss = 0.0\n",
        "test_data_size = 0\n",
        "testloader = torch.utils.data.DataLoader(test_set, batch_size=4, shuffle=True, num_workers=2)\n",
        "for i, data in enumerate(testloader, 0):\n",
        "    inputs, labels = data\n",
        "    inputs, labels = inputs.to(device, dtype=torch.float), \\\n",
        "      labels.to(device)\n",
        "    # optimizer.zero_grad()\n",
        "    outputs = simpleModel(inputs)\n",
        "    loss = criterion(outputs, labels)\n",
        "    # loss.backward()\n",
        "    _, predicted = torch.max(outputs.data, 1)\n",
        "    test_total += labels.size(0)\n",
        "    test_correct += (predicted == labels).sum().item()\n",
        "    test_loss += loss.item()\n",
        "    test_data_size = i\n",
        "print(\"test loss:%.3f, test accuracy:%.2f%%\" %(\\\n",
        "      test_loss / (test_data_size + 1), 100 * test_correct / test_total))"
      ],
      "execution_count": 30,
      "outputs": [
        {
          "output_type": "stream",
          "text": [
            "test loss:0.223, test accuracy:94.31%\n"
          ],
          "name": "stdout"
        }
      ]
    },
    {
      "cell_type": "code",
      "metadata": {
        "id": "1weSiDp4_fjH"
      },
      "source": [
        "torch.save(simpleModel.state_dict(), \"model.txt\")"
      ],
      "execution_count": null,
      "outputs": []
    },
    {
      "cell_type": "code",
      "metadata": {
        "id": "Wz2C8ecM5_7D"
      },
      "source": [
        ""
      ],
      "execution_count": null,
      "outputs": []
    }
  ]
}